{
 "cells": [
  {
   "cell_type": "markdown",
   "id": "b8bcb6be",
   "metadata": {},
   "source": [
    "Calculate the total number of people who have a Ph.D. degree from the\n",
    "SalaryGender CSV file."
   ]
  },
  {
   "cell_type": "code",
   "execution_count": 17,
   "id": "77de486f",
   "metadata": {},
   "outputs": [],
   "source": [
    "import pandas as pd"
   ]
  },
  {
   "cell_type": "code",
   "execution_count": 18,
   "id": "b7646442",
   "metadata": {
    "scrolled": false
   },
   "outputs": [
    {
     "name": "stdout",
     "output_type": "stream",
     "text": [
      "total no. of people with PhD degree=39\n"
     ]
    }
   ],
   "source": [
    "data=pd.read_csv('SalaryGender.csv')\n",
    "phd=data.query(\"PhD==1\")\n",
    "print(\"total no. of people with PhD degree=\" +str(len(phd)))"
   ]
  },
  {
   "cell_type": "markdown",
   "id": "03d685eb",
   "metadata": {},
   "source": [
    "How do you count the frequency of each value appearing in the given array of\n",
    "integers?"
   ]
  },
  {
   "cell_type": "code",
   "execution_count": 19,
   "id": "b8226f6f",
   "metadata": {},
   "outputs": [],
   "source": [
    "array=[0, 5, 4, 0, 4, 4, 3, 0, 0, 5, 2, 1, 1, 9]\n"
   ]
  },
  {
   "cell_type": "code",
   "execution_count": 20,
   "id": "1e89798b",
   "metadata": {},
   "outputs": [
    {
     "name": "stdout",
     "output_type": "stream",
     "text": [
      "0:4\n",
      "5:2\n",
      "4:3\n",
      "3:1\n",
      "2:1\n",
      "1:2\n",
      "9:1\n"
     ]
    }
   ],
   "source": [
    "valuecount={}\n",
    "for value in array:\n",
    "    if value in valuecount:\n",
    "        valuecount[value]+=1\n",
    "    else:\n",
    "        valuecount[value]=1\n",
    "for key,value in valuecount.items():\n",
    "    print(f\"{key}:{value}\")\n",
    "        \n",
    "        "
   ]
  }
 ],
 "metadata": {
  "kernelspec": {
   "display_name": "Python 3 (ipykernel)",
   "language": "python",
   "name": "python3"
  },
  "language_info": {
   "codemirror_mode": {
    "name": "ipython",
    "version": 3
   },
   "file_extension": ".py",
   "mimetype": "text/x-python",
   "name": "python",
   "nbconvert_exporter": "python",
   "pygments_lexer": "ipython3",
   "version": "3.9.12"
  }
 },
 "nbformat": 4,
 "nbformat_minor": 5
}
